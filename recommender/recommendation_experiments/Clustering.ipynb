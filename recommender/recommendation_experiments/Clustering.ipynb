{
 "cells": [
  {
   "cell_type": "code",
   "execution_count": 1,
   "metadata": {},
   "outputs": [
    {
     "name": "stdout",
     "output_type": "stream",
     "text": [
      "[[1.000e+00 1.003e+03]\n",
      " [5.500e+01 1.003e+03]\n",
      " [3.000e+00 1.004e+03]\n",
      " [2.600e+01 7.770e+02]\n",
      " [1.200e+01 8.020e+02]\n",
      " [5.100e+01 6.680e+02]\n",
      " [6.000e+01 6.000e+02]\n",
      " [1.200e+01 9.740e+02]\n",
      " [3.500e+01 1.145e+03]\n",
      " [1.200e+01 1.145e+03]]\n"
     ]
    }
   ],
   "source": [
    "import utils\n",
    "\n",
    "for_user_id = 2 # Kadir Cetinkaya\n",
    "dataset = utils.ExtractFeatures(for_user_id)\n",
    "print(dataset)"
   ]
  },
  {
   "cell_type": "code",
   "execution_count": 2,
   "metadata": {},
   "outputs": [
    {
     "name": "stdout",
     "output_type": "stream",
     "text": [
      "{1: 'Lahmacun', 55: 'Levrek', 3: 'Hamburger', 26: 'Hatay Usulü Tavuk Dürüm', 12: 'Pizza', 56: 'Tavuk Külbastı', 51: 'Su Böreği', 59: 'Meksika Soslu Tavuk', 60: 'Omlet', 57: 'Poğaça', 36: 'Tavuk Kanat', 44: 'Piliç Çevirme', 16: 'Barbekü Soslu Tavuk', 32: 'Ayvalık Tostu', 27: 'Köri Soslu Tavuk', 35: 'Çiğ Köfte', 9: 'Hamsi Tava', 40: 'Tavuk Çorbası', 24: 'Tavuklu Pilav', 7: 'Tavuk But'}\n"
     ]
    }
   ],
   "source": [
    "suggestee_id_to_name = utils.GetSuggesteeMapping()\n",
    "print(suggestee_id_to_name)"
   ]
  },
  {
   "cell_type": "code",
   "execution_count": 30,
   "metadata": {},
   "outputs": [
    {
     "name": "stdout",
     "output_type": "stream",
     "text": [
      "570 (26, 51, 60)\n",
      "Omlet\n",
      "Su Böreği\n",
      "Omlet\n",
      "Omlet\n",
      "Su Böreği\n",
      "805 (51, 12, 26)\n",
      "Pizza\n",
      "Pizza\n",
      "Hatay Usulü Tavuk Dürüm\n",
      "Pizza\n",
      "Hatay Usulü Tavuk Dürüm\n",
      "1145 (3, 35, 12)\n",
      "Çiğ Köfte\n",
      "Çiğ Köfte\n",
      "Pizza\n",
      "Hamburger\n",
      "Hamburger\n"
     ]
    }
   ],
   "source": [
    "for current_time in [9*60  + 30, #  9:30AM\n",
    "                     13*60 + 25, #  1:25PM\n",
    "                     19*60 +  5]:#  7:05PM\n",
    "  nearest_elements = utils.GetNearestElements(dataset, [current_time], k=3)\n",
    "  print(current_time, nearest_elements)\n",
    "  for _ in range(5):\n",
    "    recommendation = utils.GetRecommendation(dataset, nearest_elements)\n",
    "    print(suggestee_id_to_name[recommendation])"
   ]
  },
  {
   "cell_type": "code",
   "execution_count": null,
   "metadata": {},
   "outputs": [],
   "source": []
  }
 ],
 "metadata": {
  "kernelspec": {
   "display_name": "Python 3",
   "language": "python",
   "name": "python3"
  },
  "language_info": {
   "codemirror_mode": {
    "name": "ipython",
    "version": 3
   },
   "file_extension": ".py",
   "mimetype": "text/x-python",
   "name": "python",
   "nbconvert_exporter": "python",
   "pygments_lexer": "ipython3",
   "version": "3.6.4"
  }
 },
 "nbformat": 4,
 "nbformat_minor": 2
}
