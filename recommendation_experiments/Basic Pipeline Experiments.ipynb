{
 "cells": [
  {
   "cell_type": "code",
   "execution_count": 34,
   "metadata": {},
   "outputs": [],
   "source": [
    "import tensorflow as tf\n",
    "import numpy as np\n",
    "\n",
    "NUM_FEATURES = 1\n",
    "NUM_CLASSES = 2 # Output is binary, just the probability of liking that meal.\n",
    "NUM_TRAIN = 1000\n",
    "BATCH_SIZE = 4\n",
    "\n",
    "def CreateModel():\n",
    "  \"\"\"\n",
    "  Returns training and accuracy op graphs.\n",
    "  \"\"\"\n",
    "  x = tf.placeholder(tf.float32, [None, NUM_FEATURES])\n",
    "  W = tf.Variable(tf.zeros([NUM_FEATURES, NUM_CLASSES]))\n",
    "  b = tf.Variable(tf.zeros([NUM_CLASSES]))\n",
    "  y = tf.matmul(x, W) + b\n",
    "  \n",
    "  y_ = tf.placeholder(tf.int64, [None])\n",
    "  cross_entropy = tf.losses.sparse_softmax_cross_entropy(labels=y_, logits=y)\n",
    "  train_step = tf.train.GradientDescentOptimizer(.5).minimize(cross_entropy)\n",
    "  \n",
    "  correct_prediction = tf.equal(tf.argmax(y, 1), y_)\n",
    "  accuracy = tf.reduce_mean(tf.cast(correct_prediction, tf.float32))\n",
    "  \n",
    "  return train_step, accuracy, x, y_\n",
    "\n",
    "def TestModel(model, input_matrix):\n",
    "  \"\"\"\n",
    "  Takes model, input_matrix and prints accuracy information.\n",
    "  \n",
    "  input_matrix is of size (None, NUM_FEATURES + 1).\n",
    "  It contains meal history of one user.\n",
    "  \"\"\"\n",
    "  train_step, accuracy, x, y_ = model\n",
    "  \n",
    "  sess = tf.InteractiveSession()\n",
    "  tf.global_variables_initializer().run()\n",
    "  \n",
    "  training_size = int(input_matrix.shape[0]*.8)\n",
    "  \n",
    "  for _ in range(NUM_TRAIN):\n",
    "    rand_indices = np.random.choice(training_size, BATCH_SIZE)\n",
    "    batch_xs, batch_ys = np.hsplit(input_matrix[rand_indices], [-1])\n",
    "    sess.run(train_step, feed_dict={x:batch_xs, y_:batch_ys.flatten()})\n",
    "  \n",
    "  test_xs, test_ys = np.hsplit(input_matrix[training_size:], [-1])\n",
    "  print(sess.run(accuracy, feed_dict={x:test_xs, y_:test_ys.flatten()}))"
   ]
  },
  {
   "cell_type": "code",
   "execution_count": 35,
   "metadata": {},
   "outputs": [
    {
     "name": "stdout",
     "output_type": "stream",
     "text": [
      "Info for user_id: 2\n",
      "1.0\n",
      "Info for user_id: 9\n",
      "1.0\n",
      "Info for user_id: 1\n",
      "1.0\n"
     ]
    }
   ],
   "source": [
    "fields = {\"user_id\":0, \"suggestee_id\":1, \"latitude\":2, \"longitude\":3, \"timestamp\":4}\n",
    "field_ids = [0]*len(fields)\n",
    "\n",
    "inputs_per_user = {}\n",
    "with open(\"dataset.csv\", \"r\") as raw_data_file:\n",
    "  headers = raw_data_file.readline().split(',')\n",
    "  for idx, header in enumerate(headers):\n",
    "    if header in fields:\n",
    "      field_ids[fields[header]] = idx\n",
    "  \n",
    "  for raw_line in raw_data_file:\n",
    "    line = np.array(raw_line.split(','))\n",
    "    line = line[field_ids].astype(np.float)\n",
    "    user_id = int(line[0])\n",
    "    if user_id not in inputs_per_user:\n",
    "      inputs_per_user[user_id] = np.ndarray([0, NUM_FEATURES + 1])\n",
    "    features = [line[1:1+NUM_FEATURES], 1]\n",
    "    inputs_per_user[user_id] = np.vstack((inputs_per_user[user_id], features))\n",
    "  \n",
    "  model = CreateModel()\n",
    "  for user_id in inputs_per_user:\n",
    "    input_matrix = inputs_per_user[user_id]\n",
    "    if input_matrix.shape[0]>2:\n",
    "      print(\"Info for user_id:\", user_id)\n",
    "      TestModel(model, input_matrix)"
   ]
  }
 ],
 "metadata": {
  "kernelspec": {
   "display_name": "Python 3",
   "language": "python",
   "name": "python3"
  },
  "language_info": {
   "codemirror_mode": {
    "name": "ipython",
    "version": 3
   },
   "file_extension": ".py",
   "mimetype": "text/x-python",
   "name": "python",
   "nbconvert_exporter": "python",
   "pygments_lexer": "ipython3",
   "version": "3.6.4"
  }
 },
 "nbformat": 4,
 "nbformat_minor": 2
}
